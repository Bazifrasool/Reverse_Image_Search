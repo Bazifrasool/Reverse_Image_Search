{
 "cells": [
  {
   "cell_type": "code",
   "execution_count": 1,
   "metadata": {},
   "outputs": [],
   "source": [
    "#from keras.applications.resnet50 import ResNet50"
   ]
  },
  {
   "cell_type": "code",
   "execution_count": 1,
   "metadata": {},
   "outputs": [],
   "source": [
    "Path_of_database = \".//data2\"\n",
    "batch_size = 1\n",
    "threads=batch_size"
   ]
  },
  {
   "cell_type": "code",
   "execution_count": 2,
   "metadata": {},
   "outputs": [],
   "source": [
    "#d_model = ResNet50(include_top=False,weights=\"imagenet\",pooling = \"avg\")"
   ]
  },
  {
   "cell_type": "code",
   "execution_count": 3,
   "metadata": {},
   "outputs": [],
   "source": [
    "#d_model.save(\"./resnet50.h5\")"
   ]
  },
  {
   "cell_type": "code",
   "execution_count": 4,
   "metadata": {},
   "outputs": [
    {
     "name": "stderr",
     "output_type": "stream",
     "text": [
      "Using TensorFlow backend.\n",
      "C:\\Users\\bazif\\anaconda3\\envs\\tf\\lib\\site-packages\\keras\\engine\\saving.py:341: UserWarning: No training configuration found in save file: the model was *not* compiled. Compile it manually.\n",
      "  warnings.warn('No training configuration found in save file: '\n"
     ]
    }
   ],
   "source": [
    "import keras\n",
    "model=keras.models.load_model(\"./resnet50.h5\")"
   ]
  },
  {
   "cell_type": "code",
   "execution_count": 5,
   "metadata": {},
   "outputs": [],
   "source": [
    "model.Trainable=False"
   ]
  },
  {
   "cell_type": "code",
   "execution_count": 6,
   "metadata": {},
   "outputs": [],
   "source": [
    "import os\n",
    "list_of_files = os.listdir(Path_of_database)"
   ]
  },
  {
   "cell_type": "code",
   "execution_count": 7,
   "metadata": {},
   "outputs": [],
   "source": [
    "import h5py\n",
    "file = h5py.File(\"feature_embeddings.h5\", \"w\")    \n",
    "feature_emb = file.create_dataset(\"features\", (len(list_of_files),2048), h5py.h5t.IEEE_F32LE,compression=\"lzf\")"
   ]
  },
  {
   "cell_type": "code",
   "execution_count": 8,
   "metadata": {},
   "outputs": [],
   "source": [
    "import cv2\n",
    "def pre_proc(img):\n",
    "    return cv2.resize(img,(256,256))\n",
    "   "
   ]
  },
  {
   "cell_type": "code",
   "execution_count": 9,
   "metadata": {},
   "outputs": [],
   "source": [
    "import numpy as np\n",
    "batch_matr = [x for x in range(0,batch_size)]\n",
    "\n",
    "def batch_preprocess(i):\n",
    "    matrix = cv2.imread(Path_of_database+\"//\"+list_of_files[i])\n",
    "    matrix = pre_proc(matrix)\n",
    "    #print(\"that\",matrix)\n",
    "    global batch_matr\n",
    "    batch_matr[i]=matrix"
   ]
  },
  {
   "cell_type": "code",
   "execution_count": 10,
   "metadata": {},
   "outputs": [],
   "source": [
    "from concurrent.futures import ThreadPoolExecutor\n",
    "def batch_load(index,step,threads):\n",
    "    with ThreadPoolExecutor(max_workers=threads) as executor:\n",
    "        for i in range(index,index+step+1):\n",
    "            print(i)\n",
    "            if i < len(list_of_files):\n",
    "                executor.submit(batch_preprocess,(i))\n",
    "    print(\"this\")"
   ]
  },
  {
   "cell_type": "code",
   "execution_count": null,
   "metadata": {},
   "outputs": [],
   "source": []
  },
  {
   "cell_type": "code",
   "execution_count": 12,
   "metadata": {},
   "outputs": [
    {
     "name": "stdout",
     "output_type": "stream",
     "text": [
      "0.0\n"
     ]
    }
   ],
   "source": [
    "file.close()\n",
    "ld=h5py.File(\"feature_embeddings.h5\",\"r\")\n",
    "print(np.sum(ld[\"features\"][0]))\n",
    "ld.close()"
   ]
  },
  {
   "cell_type": "code",
   "execution_count": 11,
   "metadata": {},
   "outputs": [
    {
     "name": "stdout",
     "output_type": "stream",
     "text": [
      "['000000000008.jpg', '000000000013.jpg', '000000000022.jpg', '000000000024.jpg', '000000000029.jpg', '000000000032.jpg', '000000000035.jpg', '000000000045.jpg', '000000000054.jpg', '000000000070.jpg', '000000000087.jpg', '000000000093.jpg', '000000000103.jpg', '000000000118.jpg', '000000000132.jpg', '000000000140.jpg', '000000000146.jpg', '000000000152.jpg', '000000000158.jpg', '000000000166.jpg', '000000000170.jpg', '000000000172.jpg', '000000000176.jpg', '000000000179.jpg', '000000000186.jpg', '000000000200.jpg', '000000000207.jpg', '000000000209.jpg', '000000000217.jpg', '000000000218.jpg', '000000000223.jpg', '000000000225.jpg', '000000000226.jpg', '000000000232.jpg', '000000000233.jpg', '000000000235.jpg', '000000000238.jpg', '000000000243.jpg', '000000000246.jpg', '000000000249.jpg', '000000000252.jpg', '000000000266.jpg', '000000000267.jpg', '000000000272.jpg', '000000000273.jpg', '000000000280.jpg', '000000000291.jpg', '000000000292.jpg', '000000000296.jpg', '000000000298.jpg', '000000000313.jpg', '000000000323.jpg', '000000000327.jpg', '000000000331.jpg', '000000000335.jpg', '000000000341.jpg', '000000000342.jpg', '000000000343.jpg', '000000000344.jpg', '000000000346.jpg', '000000000358.jpg', '000000000361.jpg', '000000000372.jpg', '000000000383.jpg', '000000000388.jpg', '000000000398.jpg', '000000000402.jpg', '000000000409.jpg', '000000000410.jpg', '000000000412.jpg', '000000000413.jpg', '000000000425.jpg']\n",
      "[[[192  66   1]\n",
      "  [192  66   1]\n",
      "  [192  66   1]\n",
      "  ...\n",
      "  [ 71  35  41]\n",
      "  [ 73  35  41]\n",
      "  [ 72  34  40]]\n",
      "\n",
      " [[193  67   2]\n",
      "  [193  67   2]\n",
      "  [193  67   2]\n",
      "  ...\n",
      "  [ 69  33  39]\n",
      "  [ 70  32  38]\n",
      "  [ 69  31  37]]\n",
      "\n",
      " [[194  69   1]\n",
      "  [194  69   1]\n",
      "  [195  70   2]\n",
      "  ...\n",
      "  [ 65  31  37]\n",
      "  [ 65  29  35]\n",
      "  [ 64  28  34]]\n",
      "\n",
      " ...\n",
      "\n",
      " [[133 185 185]\n",
      "  [ 36 100  95]\n",
      "  [ 45 131 119]\n",
      "  ...\n",
      "  [147 228 225]\n",
      "  [ 95 170 172]\n",
      "  [126 197 201]]\n",
      "\n",
      " [[117 211 217]\n",
      "  [111 214 217]\n",
      "  [102 224 218]\n",
      "  ...\n",
      "  [ 39 110 107]\n",
      "  [ 90 143 146]\n",
      "  [132 176 183]]\n",
      "\n",
      " [[ 81 212 221]\n",
      "  [ 66 205 208]\n",
      "  [ 75 229 224]\n",
      "  ...\n",
      "  [ 44 111 106]\n",
      "  [150 193 196]\n",
      "  [ 41  70  77]]]\n",
      "(256, 256, 3)\n"
     ]
    }
   ],
   "source": [
    "img = cv2.imread(\".//3.jpg\")\n",
    "print(list_of_files)\n",
    "print(img)\n",
    "img = pre_proc(img)\n",
    "print(img.shape)\n",
    "img1=(model.predict(img[None,...]))"
   ]
  },
  {
   "cell_type": "code",
   "execution_count": 13,
   "metadata": {},
   "outputs": [
    {
     "name": "stdout",
     "output_type": "stream",
     "text": [
      "['000000000008.jpg', '000000000013.jpg', '000000000022.jpg', '000000000024.jpg', '000000000029.jpg', '000000000032.jpg', '000000000035.jpg', '000000000045.jpg', '000000000054.jpg', '000000000070.jpg', '000000000087.jpg', '000000000093.jpg', '000000000103.jpg', '000000000118.jpg', '000000000132.jpg', '000000000140.jpg', '000000000146.jpg', '000000000152.jpg', '000000000158.jpg', '000000000166.jpg', '000000000170.jpg', '000000000172.jpg', '000000000176.jpg', '000000000179.jpg', '000000000186.jpg', '000000000200.jpg', '000000000207.jpg', '000000000209.jpg', '000000000217.jpg', '000000000218.jpg', '000000000223.jpg', '000000000225.jpg', '000000000226.jpg', '000000000232.jpg', '000000000233.jpg', '000000000235.jpg', '000000000238.jpg', '000000000243.jpg', '000000000246.jpg', '000000000249.jpg', '000000000252.jpg', '000000000266.jpg', '000000000267.jpg', '000000000272.jpg', '000000000273.jpg', '000000000280.jpg', '000000000291.jpg', '000000000292.jpg', '000000000296.jpg', '000000000298.jpg', '000000000313.jpg', '000000000323.jpg', '000000000327.jpg', '000000000331.jpg', '000000000335.jpg', '000000000341.jpg', '000000000342.jpg', '000000000343.jpg', '000000000344.jpg', '000000000346.jpg', '000000000358.jpg', '000000000361.jpg', '000000000372.jpg', '000000000383.jpg', '000000000388.jpg', '000000000398.jpg', '000000000402.jpg', '000000000409.jpg', '000000000410.jpg', '000000000412.jpg', '000000000413.jpg', '000000000425.jpg']\n",
      "[[[ 89 100 104]\n",
      "  [ 90 101 105]\n",
      "  [ 91 102 106]\n",
      "  ...\n",
      "  [122 161 223]\n",
      "  [124 161 217]\n",
      "  [124 162 216]]\n",
      "\n",
      " [[ 87  98 102]\n",
      "  [ 88  99 103]\n",
      "  [ 89 100 104]\n",
      "  ...\n",
      "  [121 160 222]\n",
      "  [124 161 217]\n",
      "  [123 161 215]]\n",
      "\n",
      " [[ 96 107 111]\n",
      "  [ 96 107 111]\n",
      "  [ 95 106 110]\n",
      "  ...\n",
      "  [120 159 221]\n",
      "  [123 160 218]\n",
      "  [122 159 215]]\n",
      "\n",
      " ...\n",
      "\n",
      " [[156 200 253]\n",
      "  [156 200 253]\n",
      "  [155 197 250]\n",
      "  ...\n",
      "  [111 134 182]\n",
      "  [113 133 181]\n",
      "  [112 132 180]]\n",
      "\n",
      " [[160 204 255]\n",
      "  [157 201 254]\n",
      "  [153 195 248]\n",
      "  ...\n",
      "  [112 135 183]\n",
      "  [114 134 182]\n",
      "  [115 135 183]]\n",
      "\n",
      " [[160 204 255]\n",
      "  [156 200 253]\n",
      "  [153 195 248]\n",
      "  ...\n",
      "  [112 135 183]\n",
      "  [114 134 182]\n",
      "  [115 135 183]]]\n"
     ]
    }
   ],
   "source": [
    "img = cv2.imread(\".//5.jpg\")\n",
    "print(list_of_files)\n",
    "print(img)\n",
    "img = pre_proc(img)\n",
    "\n",
    "img2=(model.predict(img[None,...]))"
   ]
  },
  {
   "cell_type": "code",
   "execution_count": 15,
   "metadata": {},
   "outputs": [
    {
     "name": "stdout",
     "output_type": "stream",
     "text": [
      "['000000000008.jpg', '000000000013.jpg', '000000000022.jpg', '000000000024.jpg', '000000000029.jpg', '000000000032.jpg', '000000000035.jpg', '000000000045.jpg', '000000000054.jpg', '000000000070.jpg', '000000000087.jpg', '000000000093.jpg', '000000000103.jpg', '000000000118.jpg', '000000000132.jpg', '000000000140.jpg', '000000000146.jpg', '000000000152.jpg', '000000000158.jpg', '000000000166.jpg', '000000000170.jpg', '000000000172.jpg', '000000000176.jpg', '000000000179.jpg', '000000000186.jpg', '000000000200.jpg', '000000000207.jpg', '000000000209.jpg', '000000000217.jpg', '000000000218.jpg', '000000000223.jpg', '000000000225.jpg', '000000000226.jpg', '000000000232.jpg', '000000000233.jpg', '000000000235.jpg', '000000000238.jpg', '000000000243.jpg', '000000000246.jpg', '000000000249.jpg', '000000000252.jpg', '000000000266.jpg', '000000000267.jpg', '000000000272.jpg', '000000000273.jpg', '000000000280.jpg', '000000000291.jpg', '000000000292.jpg', '000000000296.jpg', '000000000298.jpg', '000000000313.jpg', '000000000323.jpg', '000000000327.jpg', '000000000331.jpg', '000000000335.jpg', '000000000341.jpg', '000000000342.jpg', '000000000343.jpg', '000000000344.jpg', '000000000346.jpg', '000000000358.jpg', '000000000361.jpg', '000000000372.jpg', '000000000383.jpg', '000000000388.jpg', '000000000398.jpg', '000000000402.jpg', '000000000409.jpg', '000000000410.jpg', '000000000412.jpg', '000000000413.jpg', '000000000425.jpg']\n",
      "[[[196 200 201]\n",
      "  [196 200 201]\n",
      "  [195 199 200]\n",
      "  ...\n",
      "  [139 143 144]\n",
      "  [139 143 144]\n",
      "  [139 143 144]]\n",
      "\n",
      " [[197 201 202]\n",
      "  [197 201 202]\n",
      "  [196 200 201]\n",
      "  ...\n",
      "  [139 143 144]\n",
      "  [139 143 144]\n",
      "  [139 143 144]]\n",
      "\n",
      " [[199 203 204]\n",
      "  [199 203 204]\n",
      "  [198 202 203]\n",
      "  ...\n",
      "  [139 143 144]\n",
      "  [139 143 144]\n",
      "  [139 143 144]]\n",
      "\n",
      " ...\n",
      "\n",
      " [[ 33  33  47]\n",
      "  [ 37  37  51]\n",
      "  [ 42  42  56]\n",
      "  ...\n",
      "  [ 28  41  67]\n",
      "  [ 28  41  67]\n",
      "  [ 28  41  67]]\n",
      "\n",
      " [[ 37  37  51]\n",
      "  [ 41  41  55]\n",
      "  [ 46  46  60]\n",
      "  ...\n",
      "  [ 28  41  67]\n",
      "  [ 28  41  67]\n",
      "  [ 28  41  67]]\n",
      "\n",
      " [[ 40  40  54]\n",
      "  [ 44  44  58]\n",
      "  [ 49  49  63]\n",
      "  ...\n",
      "  [ 28  41  67]\n",
      "  [ 28  41  67]\n",
      "  [ 28  41  67]]]\n"
     ]
    }
   ],
   "source": [
    "img = cv2.imread(\".//6.jpg\")\n",
    "print(list_of_files)\n",
    "print(img)\n",
    "img = pre_proc(img)\n",
    "\n",
    "img3=(model.predict(img[None,...]))"
   ]
  },
  {
   "cell_type": "code",
   "execution_count": 16,
   "metadata": {},
   "outputs": [
    {
     "name": "stdout",
     "output_type": "stream",
     "text": [
      "[[0.18975732 0.24758935 0.12330128 ... 0.         0.05473853 0.08862624]] [[0.72782624 1.363943   0.0172583  ... 0.00734634 0.06050835 0.03517134]] [[0.5816613  0.6217493  0.         ... 0.8391575  0.07384117 0.0154102 ]]\n"
     ]
    }
   ],
   "source": [
    "print(img1,img2,img3)"
   ]
  },
  {
   "cell_type": "code",
   "execution_count": 19,
   "metadata": {},
   "outputs": [
    {
     "name": "stdout",
     "output_type": "stream",
     "text": [
      "0.3744827210903168\n",
      "0.24752342700958252\n"
     ]
    }
   ],
   "source": [
    "from scipy.spatial import distance\n",
    "print(1-distance.cosine(img1,img2))\n",
    "print(1-distance.cosine(img3,img1))"
   ]
  },
  {
   "cell_type": "code",
   "execution_count": null,
   "metadata": {},
   "outputs": [],
   "source": []
  }
 ],
 "metadata": {
  "kernelspec": {
   "display_name": "Python 3",
   "language": "python",
   "name": "python3"
  },
  "language_info": {
   "codemirror_mode": {
    "name": "ipython",
    "version": 3
   },
   "file_extension": ".py",
   "mimetype": "text/x-python",
   "name": "python",
   "nbconvert_exporter": "python",
   "pygments_lexer": "ipython3",
   "version": "3.7.9"
  }
 },
 "nbformat": 4,
 "nbformat_minor": 4
}
